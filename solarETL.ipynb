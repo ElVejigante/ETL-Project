{
 "metadata": {
  "language_info": {
   "codemirror_mode": {
    "name": "ipython",
    "version": 3
   },
   "file_extension": ".py",
   "mimetype": "text/x-python",
   "name": "python",
   "nbconvert_exporter": "python",
   "pygments_lexer": "ipython3",
   "version": "3.8.5"
  },
  "orig_nbformat": 2,
  "kernelspec": {
   "name": "python385jvsc74a57bd0dca0ade3e726a953b501b15e8e990130d2b7799f14cfd9f4271676035ebe5511",
   "display_name": "Python 3.8.5 64-bit ('base': conda)"
  }
 },
 "nbformat": 4,
 "nbformat_minor": 2,
 "cells": [
  {
   "cell_type": "code",
   "execution_count": 1,
   "metadata": {},
   "outputs": [],
   "source": [
    "# Import dependencies\n",
    "import pandas as pd\n",
    "from sqlalchemy import create_engine"
   ]
  },
  {
   "cell_type": "code",
   "execution_count": 2,
   "metadata": {},
   "outputs": [
    {
     "output_type": "execute_result",
     "data": {
      "text/plain": [
       "   Unnamed: 0  urbanUtilityScalePV_GWh  urbanUtilityScalePV_GW  \\\n",
       "0     Alabama                    35850                      20   \n",
       "1      Alaska                      166                       0   \n",
       "2     Arizona                   121305                      52   \n",
       "3    Arkansas                    28960                      15   \n",
       "4  California                   246008                     111   \n",
       "\n",
       "   urbanUtilityScalePV_km2  ruralUtilityScalePV_GWh  ruralUtilityScalePV_GW  \\\n",
       "0                      426                  3706838                    2114   \n",
       "1                        2                  8282976                    9005   \n",
       "2                     1096                 11867693                    5147   \n",
       "3                      332                  4986388                    2747   \n",
       "4                     2320                  8855917                    4010   \n",
       "\n",
       "   ruralUtilityScalePV_km2  rooftopPV_GWh  rooftopPV_GW   CSP_GWh  ...  \\\n",
       "0                    44058        15475.0            12         0  ...   \n",
       "1                   187608            NaN             1         0  ...   \n",
       "2                   107230        22736.0            14  12544333  ...   \n",
       "3                    57239         8484.0             6         0  ...   \n",
       "4                    83549       106411.0            75   8490916  ...   \n",
       "\n",
       "   biopowerGaseous_GWh  biopowerGaseous_GW  biopowerGaseous_Tonnes-CH4  \\\n",
       "0                 1533                   0                      326186   \n",
       "1                   61                   0                       13156   \n",
       "2                  837                   0                      178188   \n",
       "3                 1063                   0                      226178   \n",
       "4                15510                   1                     3300211   \n",
       "\n",
       "   geothermalHydrothermal_GWh  geothermalHydrothermal_GW  EGSGeothermal_GWh  \\\n",
       "0                           0                          0           535489.0   \n",
       "1                       15437                          1                NaN   \n",
       "2                        8329                          1          1239147.0   \n",
       "3                           0                          0           628621.0   \n",
       "4                      130921                         16          1344179.0   \n",
       "\n",
       "   EGSGeothermal_GW  hydropower_GWh  hydropower_GW  hydropower_countOfSites  \n",
       "0              67.0            4102              0                     2435  \n",
       "1               NaN           23675              5                     3053  \n",
       "2             157.0            1303              0                     1958  \n",
       "3              79.0            6093              1                     3268  \n",
       "4             170.0           30023              6                     9692  \n",
       "\n",
       "[5 rows x 31 columns]"
      ],
      "text/html": "<div>\n<style scoped>\n    .dataframe tbody tr th:only-of-type {\n        vertical-align: middle;\n    }\n\n    .dataframe tbody tr th {\n        vertical-align: top;\n    }\n\n    .dataframe thead th {\n        text-align: right;\n    }\n</style>\n<table border=\"1\" class=\"dataframe\">\n  <thead>\n    <tr style=\"text-align: right;\">\n      <th></th>\n      <th>Unnamed: 0</th>\n      <th>urbanUtilityScalePV_GWh</th>\n      <th>urbanUtilityScalePV_GW</th>\n      <th>urbanUtilityScalePV_km2</th>\n      <th>ruralUtilityScalePV_GWh</th>\n      <th>ruralUtilityScalePV_GW</th>\n      <th>ruralUtilityScalePV_km2</th>\n      <th>rooftopPV_GWh</th>\n      <th>rooftopPV_GW</th>\n      <th>CSP_GWh</th>\n      <th>...</th>\n      <th>biopowerGaseous_GWh</th>\n      <th>biopowerGaseous_GW</th>\n      <th>biopowerGaseous_Tonnes-CH4</th>\n      <th>geothermalHydrothermal_GWh</th>\n      <th>geothermalHydrothermal_GW</th>\n      <th>EGSGeothermal_GWh</th>\n      <th>EGSGeothermal_GW</th>\n      <th>hydropower_GWh</th>\n      <th>hydropower_GW</th>\n      <th>hydropower_countOfSites</th>\n    </tr>\n  </thead>\n  <tbody>\n    <tr>\n      <th>0</th>\n      <td>Alabama</td>\n      <td>35850</td>\n      <td>20</td>\n      <td>426</td>\n      <td>3706838</td>\n      <td>2114</td>\n      <td>44058</td>\n      <td>15475.0</td>\n      <td>12</td>\n      <td>0</td>\n      <td>...</td>\n      <td>1533</td>\n      <td>0</td>\n      <td>326186</td>\n      <td>0</td>\n      <td>0</td>\n      <td>535489.0</td>\n      <td>67.0</td>\n      <td>4102</td>\n      <td>0</td>\n      <td>2435</td>\n    </tr>\n    <tr>\n      <th>1</th>\n      <td>Alaska</td>\n      <td>166</td>\n      <td>0</td>\n      <td>2</td>\n      <td>8282976</td>\n      <td>9005</td>\n      <td>187608</td>\n      <td>NaN</td>\n      <td>1</td>\n      <td>0</td>\n      <td>...</td>\n      <td>61</td>\n      <td>0</td>\n      <td>13156</td>\n      <td>15437</td>\n      <td>1</td>\n      <td>NaN</td>\n      <td>NaN</td>\n      <td>23675</td>\n      <td>5</td>\n      <td>3053</td>\n    </tr>\n    <tr>\n      <th>2</th>\n      <td>Arizona</td>\n      <td>121305</td>\n      <td>52</td>\n      <td>1096</td>\n      <td>11867693</td>\n      <td>5147</td>\n      <td>107230</td>\n      <td>22736.0</td>\n      <td>14</td>\n      <td>12544333</td>\n      <td>...</td>\n      <td>837</td>\n      <td>0</td>\n      <td>178188</td>\n      <td>8329</td>\n      <td>1</td>\n      <td>1239147.0</td>\n      <td>157.0</td>\n      <td>1303</td>\n      <td>0</td>\n      <td>1958</td>\n    </tr>\n    <tr>\n      <th>3</th>\n      <td>Arkansas</td>\n      <td>28960</td>\n      <td>15</td>\n      <td>332</td>\n      <td>4986388</td>\n      <td>2747</td>\n      <td>57239</td>\n      <td>8484.0</td>\n      <td>6</td>\n      <td>0</td>\n      <td>...</td>\n      <td>1063</td>\n      <td>0</td>\n      <td>226178</td>\n      <td>0</td>\n      <td>0</td>\n      <td>628621.0</td>\n      <td>79.0</td>\n      <td>6093</td>\n      <td>1</td>\n      <td>3268</td>\n    </tr>\n    <tr>\n      <th>4</th>\n      <td>California</td>\n      <td>246008</td>\n      <td>111</td>\n      <td>2320</td>\n      <td>8855917</td>\n      <td>4010</td>\n      <td>83549</td>\n      <td>106411.0</td>\n      <td>75</td>\n      <td>8490916</td>\n      <td>...</td>\n      <td>15510</td>\n      <td>1</td>\n      <td>3300211</td>\n      <td>130921</td>\n      <td>16</td>\n      <td>1344179.0</td>\n      <td>170.0</td>\n      <td>30023</td>\n      <td>6</td>\n      <td>9692</td>\n    </tr>\n  </tbody>\n</table>\n<p>5 rows × 31 columns</p>\n</div>"
     },
     "metadata": {},
     "execution_count": 2
    }
   ],
   "source": [
    "# Read CSV\n",
    "file_path = \"Resources/usretechnicalpotential.csv\"\n",
    "\n",
    "# Dataframe\n",
    "solar_energy_df = pd.read_csv(file_path)\n",
    "solar_energy_df.head()"
   ]
  },
  {
   "cell_type": "code",
   "execution_count": 3,
   "metadata": {},
   "outputs": [
    {
     "output_type": "execute_result",
     "data": {
      "text/plain": [
       "   Unnamed: 0  urbanUtilityScalePV_GWh  ruralUtilityScalePV_GWh  \\\n",
       "0     Alabama                    35850                  3706838   \n",
       "1      Alaska                      166                  8282976   \n",
       "2     Arizona                   121305                 11867693   \n",
       "3    Arkansas                    28960                  4986388   \n",
       "4  California                   246008                  8855917   \n",
       "\n",
       "   rooftopPV_GWh   CSP_GWh  \n",
       "0        15475.0         0  \n",
       "1            NaN         0  \n",
       "2        22736.0  12544333  \n",
       "3         8484.0         0  \n",
       "4       106411.0   8490916  "
      ],
      "text/html": "<div>\n<style scoped>\n    .dataframe tbody tr th:only-of-type {\n        vertical-align: middle;\n    }\n\n    .dataframe tbody tr th {\n        vertical-align: top;\n    }\n\n    .dataframe thead th {\n        text-align: right;\n    }\n</style>\n<table border=\"1\" class=\"dataframe\">\n  <thead>\n    <tr style=\"text-align: right;\">\n      <th></th>\n      <th>Unnamed: 0</th>\n      <th>urbanUtilityScalePV_GWh</th>\n      <th>ruralUtilityScalePV_GWh</th>\n      <th>rooftopPV_GWh</th>\n      <th>CSP_GWh</th>\n    </tr>\n  </thead>\n  <tbody>\n    <tr>\n      <th>0</th>\n      <td>Alabama</td>\n      <td>35850</td>\n      <td>3706838</td>\n      <td>15475.0</td>\n      <td>0</td>\n    </tr>\n    <tr>\n      <th>1</th>\n      <td>Alaska</td>\n      <td>166</td>\n      <td>8282976</td>\n      <td>NaN</td>\n      <td>0</td>\n    </tr>\n    <tr>\n      <th>2</th>\n      <td>Arizona</td>\n      <td>121305</td>\n      <td>11867693</td>\n      <td>22736.0</td>\n      <td>12544333</td>\n    </tr>\n    <tr>\n      <th>3</th>\n      <td>Arkansas</td>\n      <td>28960</td>\n      <td>4986388</td>\n      <td>8484.0</td>\n      <td>0</td>\n    </tr>\n    <tr>\n      <th>4</th>\n      <td>California</td>\n      <td>246008</td>\n      <td>8855917</td>\n      <td>106411.0</td>\n      <td>8490916</td>\n    </tr>\n  </tbody>\n</table>\n</div>"
     },
     "metadata": {},
     "execution_count": 3
    }
   ],
   "source": [
    "# Selecting columns\n",
    "solar_energy_df = solar_energy_df[[\"Unnamed: 0\", \"urbanUtilityScalePV_GWh\", \"ruralUtilityScalePV_GWh\", \"rooftopPV_GWh\", \"CSP_GWh\"]]\n",
    "solar_energy_df.head()"
   ]
  },
  {
   "cell_type": "code",
   "execution_count": 4,
   "metadata": {},
   "outputs": [
    {
     "output_type": "execute_result",
     "data": {
      "text/plain": [
       "        State  Urban Commercial Solar  Rural Commercial Solar  Rooftop Solar  \\\n",
       "0     Alabama                   35850                 3706838        15475.0   \n",
       "1      Alaska                     166                 8282976            NaN   \n",
       "2     Arizona                  121305                11867693        22736.0   \n",
       "3    Arkansas                   28960                 4986388         8484.0   \n",
       "4  California                  246008                 8855917       106411.0   \n",
       "\n",
       "   Concentrated Solar Power  \n",
       "0                         0  \n",
       "1                         0  \n",
       "2                  12544333  \n",
       "3                         0  \n",
       "4                   8490916  "
      ],
      "text/html": "<div>\n<style scoped>\n    .dataframe tbody tr th:only-of-type {\n        vertical-align: middle;\n    }\n\n    .dataframe tbody tr th {\n        vertical-align: top;\n    }\n\n    .dataframe thead th {\n        text-align: right;\n    }\n</style>\n<table border=\"1\" class=\"dataframe\">\n  <thead>\n    <tr style=\"text-align: right;\">\n      <th></th>\n      <th>State</th>\n      <th>Urban Commercial Solar</th>\n      <th>Rural Commercial Solar</th>\n      <th>Rooftop Solar</th>\n      <th>Concentrated Solar Power</th>\n    </tr>\n  </thead>\n  <tbody>\n    <tr>\n      <th>0</th>\n      <td>Alabama</td>\n      <td>35850</td>\n      <td>3706838</td>\n      <td>15475.0</td>\n      <td>0</td>\n    </tr>\n    <tr>\n      <th>1</th>\n      <td>Alaska</td>\n      <td>166</td>\n      <td>8282976</td>\n      <td>NaN</td>\n      <td>0</td>\n    </tr>\n    <tr>\n      <th>2</th>\n      <td>Arizona</td>\n      <td>121305</td>\n      <td>11867693</td>\n      <td>22736.0</td>\n      <td>12544333</td>\n    </tr>\n    <tr>\n      <th>3</th>\n      <td>Arkansas</td>\n      <td>28960</td>\n      <td>4986388</td>\n      <td>8484.0</td>\n      <td>0</td>\n    </tr>\n    <tr>\n      <th>4</th>\n      <td>California</td>\n      <td>246008</td>\n      <td>8855917</td>\n      <td>106411.0</td>\n      <td>8490916</td>\n    </tr>\n  </tbody>\n</table>\n</div>"
     },
     "metadata": {},
     "execution_count": 4
    }
   ],
   "source": [
    "# Renaming columns\n",
    "solar_energy_df.columns=[\"State\", \"Urban Commercial Solar\", \"Rural Commercial Solar\", \"Rooftop Solar\", \"Concentrated Solar Power\"]\n",
    "solar_energy_df.head()"
   ]
  }
 ]
}